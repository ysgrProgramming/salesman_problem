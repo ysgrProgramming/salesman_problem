{
  "nbformat": 4,
  "nbformat_minor": 0,
  "metadata": {
    "colab": {
      "name": "salesman_problem.ipynb",
      "provenance": [],
      "collapsed_sections": [],
      "toc_visible": true,
      "authorship_tag": "ABX9TyNzMvdHxLBkASB8yGfqJZrk",
      "include_colab_link": true
    },
    "kernelspec": {
      "name": "python3",
      "display_name": "Python 3"
    },
    "language_info": {
      "name": "python"
    }
  },
  "cells": [
    {
      "cell_type": "markdown",
      "metadata": {
        "id": "view-in-github",
        "colab_type": "text"
      },
      "source": [
        "<a href=\"https://colab.research.google.com/github/ysgrProgramming/salesman_problem/blob/main/salesman_problem.ipynb\" target=\"_parent\"><img src=\"https://colab.research.google.com/assets/colab-badge.svg\" alt=\"Open In Colab\"/></a>"
      ]
    },
    {
      "cell_type": "markdown",
      "source": [
        "# 巡回セールスマン問題の$O(n^2 2^n)$解法\n",
        "\n",
        "目的：bitDPを用いて巡回セールスマン問題を解くアルゴリズムについて学習する。"
      ],
      "metadata": {
        "id": "lDmWh07VOrvV"
      }
    },
    {
      "cell_type": "markdown",
      "source": [
        "## 座標生成\n",
        "\n",
        "巡回するためには頂点が必要となるので、ランダムに頂点座標の組を生成する関数を作成する。"
      ],
      "metadata": {
        "id": "C2_gbqQAQGBx"
      }
    },
    {
      "cell_type": "code",
      "execution_count": 3,
      "metadata": {
        "colab": {
          "base_uri": "https://localhost:8080/",
          "height": 569
        },
        "id": "BH-uXjepNKxE",
        "outputId": "12dda8ab-1be5-4f27-d14f-dfe22c58bea7"
      },
      "outputs": [
        {
          "output_type": "execute_result",
          "data": {
            "text/plain": [
              "[<matplotlib.lines.Line2D at 0x7f177fd4b1d0>]"
            ]
          },
          "metadata": {},
          "execution_count": 3
        },
        {
          "output_type": "display_data",
          "data": {
            "text/plain": [
              "<Figure size 576x576 with 1 Axes>"
            ],
            "image/png": "[encoded data removed]"
          },
          "metadata": {
            "needs_background": "light"
          }
        }
      ],
      "source": [
        "import numpy as np\n",
        "import matplotlib.pyplot as plt\n",
        "\n",
        "config = {\n",
        "    'font.family':'Yu Mincho',\n",
        "    'xtick.direction': 'in',\n",
        "    'ytick.direction': 'in',\n",
        "    'xtick.major.width': 1.0,\n",
        "    'ytick.major.width': 1.0,\n",
        "    'font.size': 14,\n",
        "    'axes.linewidth': 1.0,\n",
        "    'figure.figsize': (4, 4),\n",
        "    'figure.dpi': 144\n",
        "}\n",
        "plt.rcParams.update(config)\n",
        "\n",
        "def generate_coordinates(n, x_size, y_size):\n",
        "    x = np.random.rand(n)*x_size-(x_size/2)\n",
        "    y = np.random.rand(n)*y_size-(y_size/2)\n",
        "    cd = (x, y)\n",
        "    return cd\n",
        "\n",
        "node_size = 10\n",
        "\n",
        "x, y = generate_coordinates(node_size, 2, 2)\n",
        "plt.xlabel(\"x\")\n",
        "plt.ylabel(\"y\")\n",
        "plt.plot(x, y, \"ko\")"
      ]
    },
    {
      "cell_type": "markdown",
      "source": [
        "## 各点同士の距離を記録する\n",
        "\n",
        "各点同士の距離を測り、対応表となるようなリストを生成する。"
      ],
      "metadata": {
        "id": "yV11ApbBUMlP"
      }
    },
    {
      "cell_type": "code",
      "source": [
        "import pandas as pd\n",
        "\n",
        "def meajure_dist(x_list, y_list):\n",
        "    dist_list = []\n",
        "    for x1, y1 in zip(x_list, y_list):\n",
        "        part_list = []\n",
        "        for x2, y2 in zip(x_list, y_list):\n",
        "            part_list.append(np.sqrt((x2-x1)**2+(y2-y1)**2))\n",
        "        dist_list.append(part_list)\n",
        "    return dist_list\n",
        "\n",
        "dist_list = meajure_dist(x, y)\n",
        "pd.DataFrame(dist_list)"
      ],
      "metadata": {
        "colab": {
          "base_uri": "https://localhost:8080/",
          "height": 363
        },
        "id": "_ggOUxf5WUPd",
        "outputId": "153a55fb-2fb9-4796-9dae-28edc91b1481"
      },
      "execution_count": 4,
      "outputs": [
        {
          "output_type": "execute_result",
          "data": {
            "text/plain": [
              "          0         1         2         3         4         5         6  \\\n",
              "0  0.000000  0.202976  0.558420  1.360078  1.474188  0.947793  0.948401   \n",
              "1  0.202976  0.000000  0.761368  1.419157  1.529339  1.114125  0.863608   \n",
              "2  0.558420  0.761368  0.000000  1.339697  1.453175  0.606167  1.315160   \n",
              "3  1.360078  1.419157  1.339697  0.000000  0.116116  0.859318  0.933276   \n",
              "4  1.474188  1.529339  1.453175  0.116116  0.000000  0.959191  1.003983   \n",
              "5  0.947793  1.114125  0.606167  0.859318  0.959191  0.000000  1.244755   \n",
              "6  0.948401  0.863608  1.315160  0.933276  1.003983  1.244755  0.000000   \n",
              "7  0.434355  0.506740  0.645914  0.927346  1.040805  0.695393  0.670473   \n",
              "8  1.926260  2.066569  1.601136  0.982303  0.971992  1.006799  1.865543   \n",
              "9  1.292107  1.186980  1.669979  1.080522  1.118463  1.558986  0.355615   \n",
              "\n",
              "          7         8         9  \n",
              "0  0.434355  1.926260  1.292107  \n",
              "1  0.506740  2.066569  1.186980  \n",
              "2  0.645914  1.601136  1.669979  \n",
              "3  0.927346  0.982303  1.080522  \n",
              "4  1.040805  0.971992  1.118463  \n",
              "5  0.695393  1.006799  1.558986  \n",
              "6  0.670473  1.865543  0.355615  \n",
              "7  0.000000  1.578807  1.024477  \n",
              "8  1.578807  0.000000  2.058171  \n",
              "9  1.024477  2.058171  0.000000  "
            ],
            "text/html": [
              "\n",
              "  <div id=\"df-c6858ece-44fa-4c77-ab80-951b1603f1b4\">\n",
              "    <div class=\"colab-df-container\">\n",
              "      <div>\n",
              "<style scoped>\n",
              "    .dataframe tbody tr th:only-of-type {\n",
              "        vertical-align: middle;\n",
              "    }\n",
              "\n",
              "    .dataframe tbody tr th {\n",
              "        vertical-align: top;\n",
              "    }\n",
              "\n",
              "    .dataframe thead th {\n",
              "        text-align: right;\n",
              "    }\n",
              "</style>\n",
              "<table border=\"1\" class=\"dataframe\">\n",
              "  <thead>\n",
              "    <tr style=\"text-align: right;\">\n",
              "      <th></th>\n",
              "      <th>0</th>\n",
              "      <th>1</th>\n",
              "      <th>2</th>\n",
              "      <th>3</th>\n",
              "      <th>4</th>\n",
              "      <th>5</th>\n",
              "      <th>6</th>\n",
              "      <th>7</th>\n",
              "      <th>8</th>\n",
              "      <th>9</th>\n",
              "    </tr>\n",
              "  </thead>\n",
              "  <tbody>\n",
              "    <tr>\n",
              "      <th>0</th>\n",
              "      <td>0.000000</td>\n",
              "      <td>0.202976</td>\n",
              "      <td>0.558420</td>\n",
              "      <td>1.360078</td>\n",
              "      <td>1.474188</td>\n",
              "      <td>0.947793</td>\n",
              "      <td>0.948401</td>\n",
              "      <td>0.434355</td>\n",
              "      <td>1.926260</td>\n",
              "      <td>1.292107</td>\n",
              "    </tr>\n",
              "    <tr>\n",
              "      <th>1</th>\n",
              "      <td>0.202976</td>\n",
              "      <td>0.000000</td>\n",
              "      <td>0.761368</td>\n",
              "      <td>1.419157</td>\n",
              "      <td>1.529339</td>\n",
              "      <td>1.114125</td>\n",
              "      <td>0.863608</td>\n",
              "      <td>0.506740</td>\n",
              "      <td>2.066569</td>\n",
              "      <td>1.186980</td>\n",
              "    </tr>\n",
              "    <tr>\n",
              "      <th>2</th>\n",
              "      <td>0.558420</td>\n",
              "      <td>0.761368</td>\n",
              "      <td>0.000000</td>\n",
              "      <td>1.339697</td>\n",
              "      <td>1.453175</td>\n",
              "      <td>0.606167</td>\n",
              "      <td>1.315160</td>\n",
              "      <td>0.645914</td>\n",
              "      <td>1.601136</td>\n",
              "      <td>1.669979</td>\n",
              "    </tr>\n",
              "    <tr>\n",
              "      <th>3</th>\n",
              "      <td>1.360078</td>\n",
              "      <td>1.419157</td>\n",
              "      <td>1.339697</td>\n",
              "      <td>0.000000</td>\n",
              "      <td>0.116116</td>\n",
              "      <td>0.859318</td>\n",
              "      <td>0.933276</td>\n",
              "      <td>0.927346</td>\n",
              "      <td>0.982303</td>\n",
              "      <td>1.080522</td>\n",
              "    </tr>\n",
              "    <tr>\n",
              "      <th>4</th>\n",
              "      <td>1.474188</td>\n",
              "      <td>1.529339</td>\n",
              "      <td>1.453175</td>\n",
              "      <td>0.116116</td>\n",
              "      <td>0.000000</td>\n",
              "      <td>0.959191</td>\n",
              "      <td>1.003983</td>\n",
              "      <td>1.040805</td>\n",
              "      <td>0.971992</td>\n",
              "      <td>1.118463</td>\n",
              "    </tr>\n",
              "    <tr>\n",
              "      <th>5</th>\n",
              "      <td>0.947793</td>\n",
              "      <td>1.114125</td>\n",
              "      <td>0.606167</td>\n",
              "      <td>0.859318</td>\n",
              "      <td>0.959191</td>\n",
              "      <td>0.000000</td>\n",
              "      <td>1.244755</td>\n",
              "      <td>0.695393</td>\n",
              "      <td>1.006799</td>\n",
              "      <td>1.558986</td>\n",
              "    </tr>\n",
              "    <tr>\n",
              "      <th>6</th>\n",
              "      <td>0.948401</td>\n",
              "      <td>0.863608</td>\n",
              "      <td>1.315160</td>\n",
              "      <td>0.933276</td>\n",
              "      <td>1.003983</td>\n",
              "      <td>1.244755</td>\n",
              "      <td>0.000000</td>\n",
              "      <td>0.670473</td>\n",
              "      <td>1.865543</td>\n",
              "      <td>0.355615</td>\n",
              "    </tr>\n",
              "    <tr>\n",
              "      <th>7</th>\n",
              "      <td>0.434355</td>\n",
              "      <td>0.506740</td>\n",
              "      <td>0.645914</td>\n",
              "      <td>0.927346</td>\n",
              "      <td>1.040805</td>\n",
              "      <td>0.695393</td>\n",
              "      <td>0.670473</td>\n",
              "      <td>0.000000</td>\n",
              "      <td>1.578807</td>\n",
              "      <td>1.024477</td>\n",
              "    </tr>\n",
              "    <tr>\n",
              "      <th>8</th>\n",
              "      <td>1.926260</td>\n",
              "      <td>2.066569</td>\n",
              "      <td>1.601136</td>\n",
              "      <td>0.982303</td>\n",
              "      <td>0.971992</td>\n",
              "      <td>1.006799</td>\n",
              "      <td>1.865543</td>\n",
              "      <td>1.578807</td>\n",
              "      <td>0.000000</td>\n",
              "      <td>2.058171</td>\n",
              "    </tr>\n",
              "    <tr>\n",
              "      <th>9</th>\n",
              "      <td>1.292107</td>\n",
              "      <td>1.186980</td>\n",
              "      <td>1.669979</td>\n",
              "      <td>1.080522</td>\n",
              "      <td>1.118463</td>\n",
              "      <td>1.558986</td>\n",
              "      <td>0.355615</td>\n",
              "      <td>1.024477</td>\n",
              "      <td>2.058171</td>\n",
              "      <td>0.000000</td>\n",
              "    </tr>\n",
              "  </tbody>\n",
              "</table>\n",
              "</div>\n",
              "      <button class=\"colab-df-convert\" onclick=\"convertToInteractive('df-c6858ece-44fa-4c77-ab80-951b1603f1b4')\"\n",
              "              title=\"Convert this dataframe to an interactive table.\"\n",
              "              style=\"display:none;\">\n",
              "        \n",
              "  <svg xmlns=\"http://www.w3.org/2000/svg\" height=\"24px\"viewBox=\"0 0 24 24\"\n",
              "       width=\"24px\">\n",
              "    <path d=\"M0 0h24v24H0V0z\" fill=\"none\"/>\n",
              "    <path d=\"M18.56 5.44l.94 2.06.94-2.06 2.06-.94-2.06-.94-.94-2.06-.94 2.06-2.06.94zm-11 1L8.5 8.5l.94-2.06 2.06-.94-2.06-.94L8.5 2.5l-.94 2.06-2.06.94zm10 10l.94 2.06.94-2.06 2.06-.94-2.06-.94-.94-2.06-.94 2.06-2.06.94z\"/><path d=\"M17.41 7.96l-1.37-1.37c-.4-.4-.92-.59-1.43-.59-.52 0-1.04.2-1.43.59L10.3 9.45l-7.72 7.72c-.78.78-.78 2.05 0 2.83L4 21.41c.39.39.9.59 1.41.59.51 0 1.02-.2 1.41-.59l7.78-7.78 2.81-2.81c.8-.78.8-2.07 0-2.86zM5.41 20L4 18.59l7.72-7.72 1.47 1.35L5.41 20z\"/>\n",
              "  </svg>\n",
              "      </button>\n",
              "      \n",
              "  <style>\n",
              "    .colab-df-container {\n",
              "      display:flex;\n",
              "      flex-wrap:wrap;\n",
              "      gap: 12px;\n",
              "    }\n",
              "\n",
              "    .colab-df-convert {\n",
              "      background-color: #E8F0FE;\n",
              "      border: none;\n",
              "      border-radius: 50%;\n",
              "      cursor: pointer;\n",
              "      display: none;\n",
              "      fill: #1967D2;\n",
              "      height: 32px;\n",
              "      padding: 0 0 0 0;\n",
              "      width: 32px;\n",
              "    }\n",
              "\n",
              "    .colab-df-convert:hover {\n",
              "      background-color: #E2EBFA;\n",
              "      box-shadow: 0px 1px 2px rgba(60, 64, 67, 0.3), 0px 1px 3px 1px rgba(60, 64, 67, 0.15);\n",
              "      fill: #174EA6;\n",
              "    }\n",
              "\n",
              "    [theme=dark] .colab-df-convert {\n",
              "      background-color: #3B4455;\n",
              "      fill: #D2E3FC;\n",
              "    }\n",
              "\n",
              "    [theme=dark] .colab-df-convert:hover {\n",
              "      background-color: #434B5C;\n",
              "      box-shadow: 0px 1px 3px 1px rgba(0, 0, 0, 0.15);\n",
              "      filter: drop-shadow(0px 1px 2px rgba(0, 0, 0, 0.3));\n",
              "      fill: #FFFFFF;\n",
              "    }\n",
              "  </style>\n",
              "\n",
              "      <script>\n",
              "        const buttonEl =\n",
              "          document.querySelector('#df-c6858ece-44fa-4c77-ab80-951b1603f1b4 button.colab-df-convert');\n",
              "        buttonEl.style.display =\n",
              "          google.colab.kernel.accessAllowed ? 'block' : 'none';\n",
              "\n",
              "        async function convertToInteractive(key) {\n",
              "          const element = document.querySelector('#df-c6858ece-44fa-4c77-ab80-951b1603f1b4');\n",
              "          const dataTable =\n",
              "            await google.colab.kernel.invokeFunction('convertToInteractive',\n",
              "                                                     [key], {});\n",
              "          if (!dataTable) return;\n",
              "\n",
              "          const docLinkHtml = 'Like what you see? Visit the ' +\n",
              "            '<a target=\"_blank\" href=https://colab.research.google.com/notebooks/data_table.ipynb>data table notebook</a>'\n",
              "            + ' to learn more about interactive tables.';\n",
              "          element.innerHTML = '';\n",
              "          dataTable['output_type'] = 'display_data';\n",
              "          await google.colab.output.renderOutput(dataTable, element);\n",
              "          const docLink = document.createElement('div');\n",
              "          docLink.innerHTML = docLinkHtml;\n",
              "          element.appendChild(docLink);\n",
              "        }\n",
              "      </script>\n",
              "    </div>\n",
              "  </div>\n",
              "  "
            ]
          },
          "metadata": {},
          "execution_count": 4
        }
      ]
    },
    {
      "cell_type": "markdown",
      "source": [
        "## 最短経路を求める\n",
        "\n",
        "本題。bitDPを使って最短経路を求める。"
      ],
      "metadata": {
        "id": "vCkH-h44akrb"
      }
    },
    {
      "cell_type": "markdown",
      "source": [
        "### テーブルの作成\n",
        "\n",
        "$dp[S][v](S=要素の集合、v=最後に到達する頂点)$を、頂点0から始まり集合$S$の頂点全てを通り頂点$v$に到達する最短経路とする。\n",
        "\n",
        "初期条件は$dp[0][0]=0$\n",
        "\n",
        "漸化式を\n",
        "\n",
        "$dp[S \\cup v][v]=min(dp[S \\cup v][v], dp[S][k]+cost[k][v])$\n",
        "\n",
        "と定めると、$dp[-1][0]$が頂点0から全ての要素を通り頂点0に戻る最短経路の距離となる。"
      ],
      "metadata": {
        "id": "vb-DyrxYxZWo"
      }
    },
    {
      "cell_type": "code",
      "source": [
        "def make_table(node_size, dist_list):\n",
        "    dp = [[float('inf')]*node_size for _ in range(1<<node_size)]\n",
        "    dp[0][0] = 0\n",
        "    for bit in range(1<<node_size):\n",
        "        for i in range(node_size):\n",
        "            if dp[bit][i] == float('inf'): continue\n",
        "            for j in range(node_size):\n",
        "                if bit & 1<<j: continue\n",
        "                dp[bit ^ 1<<j][j] = min(dp[bit ^ 1<<j][j], dp[bit][i]+dist_list[i][j])\n",
        "    return dp\n",
        "\n",
        "dp = make_table(node_size, dist_list)\n",
        "dp[-1][0]"
      ],
      "metadata": {
        "colab": {
          "base_uri": "https://localhost:8080/"
        },
        "id": "6XGWC-VwxF6g",
        "outputId": "cc034f0c-5446-42e6-d1d8-ac9345c00358"
      },
      "execution_count": 5,
      "outputs": [
        {
          "output_type": "execute_result",
          "data": {
            "text/plain": [
              "6.075819016543628"
            ]
          },
          "metadata": {},
          "execution_count": 5
        }
      ]
    },
    {
      "cell_type": "markdown",
      "source": [
        "### dpテーブルから経路を逆算\n",
        "\n",
        "初期状態を$(S, v)=$(要素すべての集合、$0$)から始め、$v$を記録し、$S$から$v$を消去した集合の中での最短距離となる$v$を探す。これを繰り返すことにより最短経路となる頂点の順番が記録される。"
      ],
      "metadata": {
        "id": "dmHuPESJAyS9"
      }
    },
    {
      "cell_type": "code",
      "source": [
        "def find_shortest_sort(node_size, dp, dist_list):\n",
        "    s = (1<<node_size)-1\n",
        "    li = [0]\n",
        "    s -= 1\n",
        "    for _ in range(node_size-1):\n",
        "        min_length, min_node = float('inf'), -1\n",
        "        for j in range(1, node_size):\n",
        "            if s & 1<<j == 0: continue\n",
        "            if dp[s][j]+dist_list[j][li[-1]] < min_length:\n",
        "                min_length = dp[s][j]+dist_list[j][li[-1]]\n",
        "                min_node = j\n",
        "        li.append(min_node)\n",
        "        s -= 1<<min_node\n",
        "    return li\n",
        "\n",
        "li = find_shortest_sort(node_size, dp, dist_list)\n",
        "print(li)\n"
      ],
      "metadata": {
        "colab": {
          "base_uri": "https://localhost:8080/"
        },
        "id": "Ng2Q0yieAyFM",
        "outputId": "92dfe1a4-133d-4fc3-ee01-1f17a561c14f"
      },
      "execution_count": 6,
      "outputs": [
        {
          "output_type": "stream",
          "name": "stdout",
          "text": [
            "[0, 2, 5, 8, 4, 3, 9, 6, 7, 1]\n"
          ]
        }
      ]
    },
    {
      "cell_type": "markdown",
      "source": [
        "### 最短経路の視覚化\n",
        "\n",
        "どの順番に頂点を辿ればよいか求められたので、図示する。"
      ],
      "metadata": {
        "id": "J6hbAvqiFU0i"
      }
    },
    {
      "cell_type": "code",
      "source": [
        "def plt_route(li, x_list, y_list):\n",
        "    li = np.array(li)\n",
        "    x_list, y_list = x_list[li], y_list[li]\n",
        "    plt.plot(x_list, y_list, \"b-\")\n",
        "    plt.plot([x_list[0], x_list[-1]], [y_list[0], y_list[-1]], \"b-\")\n",
        "    plt.plot(x_list, y_list, \"ko\")\n",
        "\n",
        "plt_route(li, x, y)"
      ],
      "metadata": {
        "colab": {
          "base_uri": "https://localhost:8080/",
          "height": 515
        },
        "id": "JVvCKMPiFuCV",
        "outputId": "7e2fe539-4686-41b9-ad9f-96debfb6bd5c"
      },
      "execution_count": 7,
      "outputs": [
        {
          "output_type": "display_data",
          "data": {
            "text/plain": [
              "<Figure size 576x576 with 1 Axes>"
            ],
            "image/png": "[encoded data removed]"
          },
          "metadata": {
            "needs_background": "light"
          }
        }
      ]
    },
    {
      "cell_type": "markdown",
      "source": [
        "## ランダムシミュレーション\n",
        "\n",
        "任意の頂点数から頂点をランダムに配置し、最短巡回経路を図示する"
      ],
      "metadata": {
        "id": "ttctzFVbI2u-"
      }
    },
    {
      "cell_type": "code",
      "source": [
        "def salesman_simulate(node_size):\n",
        "    if node_size <= 0: raise Exception(\"node_size is too short\")\n",
        "    x, y = generate_coordinates(node_size, 10, 10)\n",
        "    dist_list = meajure_dist(x, y)\n",
        "    dp = make_table(node_size, dist_list)\n",
        "    li = find_shortest_sort(node_size, dp, dist_list)\n",
        "    plt_route(li, x, y)\n",
        "\n",
        "salesman_simulate(15)"
      ],
      "metadata": {
        "colab": {
          "base_uri": "https://localhost:8080/",
          "height": 515
        },
        "id": "xZKU75inJIg2",
        "outputId": "e588a768-4b35-4182-af37-f227aeed35dc"
      },
      "execution_count": 8,
      "outputs": [
        {
          "output_type": "display_data",
          "data": {
            "text/plain": [
              "<Figure size 576x576 with 1 Axes>"
            ],
            "image/png": "[encoded data removed]"
          },
          "metadata": {
            "needs_background": "light"
          }
        }
      ]
    }
  ]
}