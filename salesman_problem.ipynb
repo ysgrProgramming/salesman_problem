{
  "nbformat": 4,
  "nbformat_minor": 0,
  "metadata": {
    "colab": {
      "name": "salesman_problem.ipynb",
      "provenance": [],
      "collapsed_sections": [],
      "toc_visible": true,
      "authorship_tag": "ABX9TyPivXC0UuWIFl7F9vCUyVqW",
      "include_colab_link": true
    },
    "kernelspec": {
      "name": "python3",
      "display_name": "Python 3"
    },
    "language_info": {
      "name": "python"
    }
  },
  "cells": [
    {
      "cell_type": "markdown",
      "metadata": {
        "id": "view-in-github",
        "colab_type": "text"
      },
      "source": [
        "<a href=\"https://colab.research.google.com/github/ysgrProgramming/salesman_problem/blob/main/salesman_problem.ipynb\" target=\"_parent\"><img src=\"https://colab.research.google.com/assets/colab-badge.svg\" alt=\"Open In Colab\"/></a>"
      ]
    },
    {
      "cell_type": "markdown",
      "source": [
        "# 巡回セールスマン問題の$O(n^2 2^n)$解法\n",
        "\n",
        "目的：bitDPを用いて巡回セールスマン問題を解くアルゴリズムについて学習する。"
      ],
      "metadata": {
        "id": "lDmWh07VOrvV"
      }
    },
    {
      "cell_type": "markdown",
      "source": [
        "## 座標生成\n",
        "\n",
        "巡回するためには頂点が必要となるので、ランダムに頂点座標の組を生成する関数を作成する。"
      ],
      "metadata": {
        "id": "C2_gbqQAQGBx"
      }
    },
    {
      "cell_type": "code",
      "execution_count": null,
      "metadata": {
        "colab": {
          "base_uri": "https://localhost:8080/",
          "height": 578
        },
        "id": "BH-uXjepNKxE",
        "outputId": "a8114530-c6a8-4bf2-b793-e50e580ff3a9"
      },
      "outputs": [
        {
          "output_type": "execute_result",
          "data": {
            "text/plain": [
              "[<matplotlib.lines.Line2D at 0x7f988b735d50>]"
            ]
          },
          "metadata": {},
          "execution_count": 43
        },
        {
          "output_type": "display_data",
          "data": {
            "text/plain": [
              "<Figure size 864x576 with 1 Axes>"
            ],
            "image/png": "[encoded data removed]"
          },
          "metadata": {
            "needs_background": "light"
          }
        }
      ],
      "source": [
        "import numpy as np\n",
        "import matplotlib.pyplot as plt\n",
        "\n",
        "config = {\n",
        "    'font.family':'Yu Mincho',\n",
        "    'xtick.direction': 'in',\n",
        "    'ytick.direction': 'in',\n",
        "    'xtick.major.width': 1.0,\n",
        "    'ytick.major.width': 1.0,\n",
        "    'font.size': 14,\n",
        "    'axes.linewidth': 1.0,\n",
        "    'figure.dpi': 144\n",
        "}\n",
        "plt.rcParams.update(config)\n",
        "\n",
        "def generate_coordinates(n, x_size, y_size):\n",
        "    x = np.random.rand(n)*x_size-(x_size/2)\n",
        "    y = np.random.rand(n)*y_size-(y_size/2)\n",
        "    cd = (x, y)\n",
        "    return cd\n",
        "\n",
        "node_size = 10\n",
        "\n",
        "x, y = generate_coordinates(node_size, 2, 2)\n",
        "plt.xlabel(\"x\")\n",
        "plt.ylabel(\"y\")\n",
        "plt.plot(x, y, \"ko\")"
      ]
    },
    {
      "cell_type": "markdown",
      "source": [
        "## 各点同士の距離を記録する\n",
        "\n",
        "各点同士の距離を測り、対応表となるようなリストを生成する。"
      ],
      "metadata": {
        "id": "yV11ApbBUMlP"
      }
    },
    {
      "cell_type": "code",
      "source": [
        "import pandas as pd\n",
        "\n",
        "def meajure_dist(x_list, y_list):\n",
        "    dist_list = []\n",
        "    for x1, y1 in zip(x_list, y_list):\n",
        "        part_list = []\n",
        "        for x2, y2 in zip(x_list, y_list):\n",
        "            part_list.append(np.sqrt((x2-x1)**2+(y2-y1)**2))\n",
        "        dist_list.append(part_list)\n",
        "    return dist_list\n",
        "\n",
        "dist_list = meajure_dist(x, y)\n",
        "pd.DataFrame(dist_list)"
      ],
      "metadata": {
        "colab": {
          "base_uri": "https://localhost:8080/",
          "height": 363
        },
        "id": "_ggOUxf5WUPd",
        "outputId": "1dbfaf92-b404-40ba-a974-759827153755"
      },
      "execution_count": null,
      "outputs": [
        {
          "output_type": "execute_result",
          "data": {
            "text/plain": [
              "          0         1         2         3         4         5         6  \\\n",
              "0  0.000000  1.170473  1.986607  0.042992  0.834952  1.164981  1.062754   \n",
              "1  1.170473  0.000000  1.025858  1.155201  0.528507  0.652043  0.504076   \n",
              "2  1.986607  1.025858  0.000000  1.956275  1.548033  0.854902  1.518960   \n",
              "3  0.042992  1.155201  1.956275  0.000000  0.837588  1.130384  1.066401   \n",
              "4  0.834952  0.528507  1.548033  0.837588  0.000000  0.986830  0.229449   \n",
              "5  1.164981  0.652043  0.854902  1.130384  0.986830  0.000000  1.082544   \n",
              "6  1.062754  0.504076  1.518960  1.066401  0.229449  1.082544  0.000000   \n",
              "7  1.714987  0.996590  0.439589  1.679492  1.457737  0.551875  1.495115   \n",
              "8  2.138863  0.995758  1.143830  2.129317  1.352407  1.470018  1.165794   \n",
              "9  1.650857  1.081674  1.956963  1.665356  0.886379  1.724081  0.685685   \n",
              "\n",
              "          7         8         9  \n",
              "0  1.714987  2.138863  1.650857  \n",
              "1  0.996590  0.995758  1.081674  \n",
              "2  0.439589  1.143830  1.956963  \n",
              "3  1.679492  2.129317  1.665356  \n",
              "4  1.457737  1.352407  0.886379  \n",
              "5  0.551875  1.470018  1.724081  \n",
              "6  1.495115  1.165794  0.685685  \n",
              "7  0.000000  1.456526  2.051166  \n",
              "8  1.456526  0.000000  1.156497  \n",
              "9  2.051166  1.156497  0.000000  "
            ],
            "text/html": [
              "\n",
              "  <div id=\"df-fa4476a3-f854-4417-b5fb-573bc31a85a6\">\n",
              "    <div class=\"colab-df-container\">\n",
              "      <div>\n",
              "<style scoped>\n",
              "    .dataframe tbody tr th:only-of-type {\n",
              "        vertical-align: middle;\n",
              "    }\n",
              "\n",
              "    .dataframe tbody tr th {\n",
              "        vertical-align: top;\n",
              "    }\n",
              "\n",
              "    .dataframe thead th {\n",
              "        text-align: right;\n",
              "    }\n",
              "</style>\n",
              "<table border=\"1\" class=\"dataframe\">\n",
              "  <thead>\n",
              "    <tr style=\"text-align: right;\">\n",
              "      <th></th>\n",
              "      <th>0</th>\n",
              "      <th>1</th>\n",
              "      <th>2</th>\n",
              "      <th>3</th>\n",
              "      <th>4</th>\n",
              "      <th>5</th>\n",
              "      <th>6</th>\n",
              "      <th>7</th>\n",
              "      <th>8</th>\n",
              "      <th>9</th>\n",
              "    </tr>\n",
              "  </thead>\n",
              "  <tbody>\n",
              "    <tr>\n",
              "      <th>0</th>\n",
              "      <td>0.000000</td>\n",
              "      <td>1.170473</td>\n",
              "      <td>1.986607</td>\n",
              "      <td>0.042992</td>\n",
              "      <td>0.834952</td>\n",
              "      <td>1.164981</td>\n",
              "      <td>1.062754</td>\n",
              "      <td>1.714987</td>\n",
              "      <td>2.138863</td>\n",
              "      <td>1.650857</td>\n",
              "    </tr>\n",
              "    <tr>\n",
              "      <th>1</th>\n",
              "      <td>1.170473</td>\n",
              "      <td>0.000000</td>\n",
              "      <td>1.025858</td>\n",
              "      <td>1.155201</td>\n",
              "      <td>0.528507</td>\n",
              "      <td>0.652043</td>\n",
              "      <td>0.504076</td>\n",
              "      <td>0.996590</td>\n",
              "      <td>0.995758</td>\n",
              "      <td>1.081674</td>\n",
              "    </tr>\n",
              "    <tr>\n",
              "      <th>2</th>\n",
              "      <td>1.986607</td>\n",
              "      <td>1.025858</td>\n",
              "      <td>0.000000</td>\n",
              "      <td>1.956275</td>\n",
              "      <td>1.548033</td>\n",
              "      <td>0.854902</td>\n",
              "      <td>1.518960</td>\n",
              "      <td>0.439589</td>\n",
              "      <td>1.143830</td>\n",
              "      <td>1.956963</td>\n",
              "    </tr>\n",
              "    <tr>\n",
              "      <th>3</th>\n",
              "      <td>0.042992</td>\n",
              "      <td>1.155201</td>\n",
              "      <td>1.956275</td>\n",
              "      <td>0.000000</td>\n",
              "      <td>0.837588</td>\n",
              "      <td>1.130384</td>\n",
              "      <td>1.066401</td>\n",
              "      <td>1.679492</td>\n",
              "      <td>2.129317</td>\n",
              "      <td>1.665356</td>\n",
              "    </tr>\n",
              "    <tr>\n",
              "      <th>4</th>\n",
              "      <td>0.834952</td>\n",
              "      <td>0.528507</td>\n",
              "      <td>1.548033</td>\n",
              "      <td>0.837588</td>\n",
              "      <td>0.000000</td>\n",
              "      <td>0.986830</td>\n",
              "      <td>0.229449</td>\n",
              "      <td>1.457737</td>\n",
              "      <td>1.352407</td>\n",
              "      <td>0.886379</td>\n",
              "    </tr>\n",
              "    <tr>\n",
              "      <th>5</th>\n",
              "      <td>1.164981</td>\n",
              "      <td>0.652043</td>\n",
              "      <td>0.854902</td>\n",
              "      <td>1.130384</td>\n",
              "      <td>0.986830</td>\n",
              "      <td>0.000000</td>\n",
              "      <td>1.082544</td>\n",
              "      <td>0.551875</td>\n",
              "      <td>1.470018</td>\n",
              "      <td>1.724081</td>\n",
              "    </tr>\n",
              "    <tr>\n",
              "      <th>6</th>\n",
              "      <td>1.062754</td>\n",
              "      <td>0.504076</td>\n",
              "      <td>1.518960</td>\n",
              "      <td>1.066401</td>\n",
              "      <td>0.229449</td>\n",
              "      <td>1.082544</td>\n",
              "      <td>0.000000</td>\n",
              "      <td>1.495115</td>\n",
              "      <td>1.165794</td>\n",
              "      <td>0.685685</td>\n",
              "    </tr>\n",
              "    <tr>\n",
              "      <th>7</th>\n",
              "      <td>1.714987</td>\n",
              "      <td>0.996590</td>\n",
              "      <td>0.439589</td>\n",
              "      <td>1.679492</td>\n",
              "      <td>1.457737</td>\n",
              "      <td>0.551875</td>\n",
              "      <td>1.495115</td>\n",
              "      <td>0.000000</td>\n",
              "      <td>1.456526</td>\n",
              "      <td>2.051166</td>\n",
              "    </tr>\n",
              "    <tr>\n",
              "      <th>8</th>\n",
              "      <td>2.138863</td>\n",
              "      <td>0.995758</td>\n",
              "      <td>1.143830</td>\n",
              "      <td>2.129317</td>\n",
              "      <td>1.352407</td>\n",
              "      <td>1.470018</td>\n",
              "      <td>1.165794</td>\n",
              "      <td>1.456526</td>\n",
              "      <td>0.000000</td>\n",
              "      <td>1.156497</td>\n",
              "    </tr>\n",
              "    <tr>\n",
              "      <th>9</th>\n",
              "      <td>1.650857</td>\n",
              "      <td>1.081674</td>\n",
              "      <td>1.956963</td>\n",
              "      <td>1.665356</td>\n",
              "      <td>0.886379</td>\n",
              "      <td>1.724081</td>\n",
              "      <td>0.685685</td>\n",
              "      <td>2.051166</td>\n",
              "      <td>1.156497</td>\n",
              "      <td>0.000000</td>\n",
              "    </tr>\n",
              "  </tbody>\n",
              "</table>\n",
              "</div>\n",
              "      <button class=\"colab-df-convert\" onclick=\"convertToInteractive('df-fa4476a3-f854-4417-b5fb-573bc31a85a6')\"\n",
              "              title=\"Convert this dataframe to an interactive table.\"\n",
              "              style=\"display:none;\">\n",
              "        \n",
              "  <svg xmlns=\"http://www.w3.org/2000/svg\" height=\"24px\"viewBox=\"0 0 24 24\"\n",
              "       width=\"24px\">\n",
              "    <path d=\"M0 0h24v24H0V0z\" fill=\"none\"/>\n",
              "    <path d=\"M18.56 5.44l.94 2.06.94-2.06 2.06-.94-2.06-.94-.94-2.06-.94 2.06-2.06.94zm-11 1L8.5 8.5l.94-2.06 2.06-.94-2.06-.94L8.5 2.5l-.94 2.06-2.06.94zm10 10l.94 2.06.94-2.06 2.06-.94-2.06-.94-.94-2.06-.94 2.06-2.06.94z\"/><path d=\"M17.41 7.96l-1.37-1.37c-.4-.4-.92-.59-1.43-.59-.52 0-1.04.2-1.43.59L10.3 9.45l-7.72 7.72c-.78.78-.78 2.05 0 2.83L4 21.41c.39.39.9.59 1.41.59.51 0 1.02-.2 1.41-.59l7.78-7.78 2.81-2.81c.8-.78.8-2.07 0-2.86zM5.41 20L4 18.59l7.72-7.72 1.47 1.35L5.41 20z\"/>\n",
              "  </svg>\n",
              "      </button>\n",
              "      \n",
              "  <style>\n",
              "    .colab-df-container {\n",
              "      display:flex;\n",
              "      flex-wrap:wrap;\n",
              "      gap: 12px;\n",
              "    }\n",
              "\n",
              "    .colab-df-convert {\n",
              "      background-color: #E8F0FE;\n",
              "      border: none;\n",
              "      border-radius: 50%;\n",
              "      cursor: pointer;\n",
              "      display: none;\n",
              "      fill: #1967D2;\n",
              "      height: 32px;\n",
              "      padding: 0 0 0 0;\n",
              "      width: 32px;\n",
              "    }\n",
              "\n",
              "    .colab-df-convert:hover {\n",
              "      background-color: #E2EBFA;\n",
              "      box-shadow: 0px 1px 2px rgba(60, 64, 67, 0.3), 0px 1px 3px 1px rgba(60, 64, 67, 0.15);\n",
              "      fill: #174EA6;\n",
              "    }\n",
              "\n",
              "    [theme=dark] .colab-df-convert {\n",
              "      background-color: #3B4455;\n",
              "      fill: #D2E3FC;\n",
              "    }\n",
              "\n",
              "    [theme=dark] .colab-df-convert:hover {\n",
              "      background-color: #434B5C;\n",
              "      box-shadow: 0px 1px 3px 1px rgba(0, 0, 0, 0.15);\n",
              "      filter: drop-shadow(0px 1px 2px rgba(0, 0, 0, 0.3));\n",
              "      fill: #FFFFFF;\n",
              "    }\n",
              "  </style>\n",
              "\n",
              "      <script>\n",
              "        const buttonEl =\n",
              "          document.querySelector('#df-fa4476a3-f854-4417-b5fb-573bc31a85a6 button.colab-df-convert');\n",
              "        buttonEl.style.display =\n",
              "          google.colab.kernel.accessAllowed ? 'block' : 'none';\n",
              "\n",
              "        async function convertToInteractive(key) {\n",
              "          const element = document.querySelector('#df-fa4476a3-f854-4417-b5fb-573bc31a85a6');\n",
              "          const dataTable =\n",
              "            await google.colab.kernel.invokeFunction('convertToInteractive',\n",
              "                                                     [key], {});\n",
              "          if (!dataTable) return;\n",
              "\n",
              "          const docLinkHtml = 'Like what you see? Visit the ' +\n",
              "            '<a target=\"_blank\" href=https://colab.research.google.com/notebooks/data_table.ipynb>data table notebook</a>'\n",
              "            + ' to learn more about interactive tables.';\n",
              "          element.innerHTML = '';\n",
              "          dataTable['output_type'] = 'display_data';\n",
              "          await google.colab.output.renderOutput(dataTable, element);\n",
              "          const docLink = document.createElement('div');\n",
              "          docLink.innerHTML = docLinkHtml;\n",
              "          element.appendChild(docLink);\n",
              "        }\n",
              "      </script>\n",
              "    </div>\n",
              "  </div>\n",
              "  "
            ]
          },
          "metadata": {},
          "execution_count": 44
        }
      ]
    },
    {
      "cell_type": "markdown",
      "source": [
        "## 最短経路を求める\n",
        "\n",
        "本題。bitDPを使って最短経路を求める。"
      ],
      "metadata": {
        "id": "vCkH-h44akrb"
      }
    },
    {
      "cell_type": "markdown",
      "source": [
        "### テーブルの作成\n",
        "\n",
        "$dp[S][v](S=要素の集合、v=最後に到達する頂点)$を、頂点0から始まり集合$S$の頂点全てを通り頂点$v$に到達する最短経路とする。\n",
        "\n",
        "初期条件は$dp[0][0]=0$\n",
        "\n",
        "漸化式を\n",
        "\n",
        "$dp[S \\cup v][v]=min(dp[S \\cup v][v], dp[S][k]+cost[k][v])$\n",
        "\n",
        "と定めると、$dp[-1][0]$が頂点0から全ての要素を通り頂点0に戻る最短経路の距離となる。"
      ],
      "metadata": {
        "id": "vb-DyrxYxZWo"
      }
    },
    {
      "cell_type": "code",
      "source": [
        "def make_table(node_size, dist_list):\n",
        "    dp = [[float('inf')]*node_size for _ in range(1<<node_size)]\n",
        "    dp[0][0] = 0\n",
        "    for bit in range(1<<node_size):\n",
        "        for i in range(node_size):\n",
        "            if dp[bit][i] == float('inf'): continue\n",
        "            for j in range(node_size):\n",
        "                if bit & 1<<j: continue\n",
        "                dp[bit ^ 1<<j][j] = min(dp[bit ^ 1<<j][j], dp[bit][i]+dist_list[i][j])\n",
        "    return dp\n",
        "\n",
        "dp = make_table(node_size, dist_list)\n",
        "dp[-1][0]"
      ],
      "metadata": {
        "colab": {
          "base_uri": "https://localhost:8080/"
        },
        "id": "6XGWC-VwxF6g",
        "outputId": "1172055b-ccec-43e3-b4e3-155cb347daeb"
      },
      "execution_count": null,
      "outputs": [
        {
          "output_type": "execute_result",
          "data": {
            "text/plain": [
              "6.892113670344199"
            ]
          },
          "metadata": {},
          "execution_count": 45
        }
      ]
    },
    {
      "cell_type": "markdown",
      "source": [
        "### dpテーブルから経路を逆算\n",
        "\n",
        "初期状態を$(S, v)=$(要素すべての集合、$0$)から始め、$v$を記録し、$S$から$v$を消去した集合の中での最短距離となる$v$を探す。これを繰り返すことにより最短経路となる頂点の順番が記録される。"
      ],
      "metadata": {
        "id": "dmHuPESJAyS9"
      }
    },
    {
      "cell_type": "code",
      "source": [
        "def find_shortest_sort(node_size, dp, dist_list):\n",
        "    s = (1<<node_size)-1\n",
        "    li = [0]\n",
        "    s -= 1\n",
        "    for _ in range(node_size-1):\n",
        "        min_length, min_node = float('inf'), -1\n",
        "        for j in range(1, node_size):\n",
        "            if s & 1<<j == 0: continue\n",
        "            if dp[s][j]+dist_list[j][li[-1]] < min_length:\n",
        "                min_length = dp[s][j]+dist_list[j][li[-1]]\n",
        "                min_node = j\n",
        "        li.append(min_node)\n",
        "        s -= 1<<min_node\n",
        "    return li\n",
        "\n",
        "li = find_shortest_sort(node_size, dp, dist_list)\n",
        "print(li)\n"
      ],
      "metadata": {
        "colab": {
          "base_uri": "https://localhost:8080/"
        },
        "id": "Ng2Q0yieAyFM",
        "outputId": "90df09d7-02cd-461d-8a46-6e7f6bf08fc5"
      },
      "execution_count": null,
      "outputs": [
        {
          "output_type": "stream",
          "name": "stdout",
          "text": [
            "[0, 4, 6, 9, 8, 2, 7, 5, 1, 3]\n"
          ]
        }
      ]
    },
    {
      "cell_type": "markdown",
      "source": [
        "### 最短経路の視覚化\n",
        "\n",
        "どの順番に頂点を辿ればよいか求められたので、図示する。"
      ],
      "metadata": {
        "id": "J6hbAvqiFU0i"
      }
    },
    {
      "cell_type": "code",
      "source": [
        "def plt_route(li, x_list, y_list):\n",
        "    li = np.array(li)\n",
        "    x_list, y_list = x_list[li], y_list[li]\n",
        "    plt.plot(x_list, y_list, \"b-\")\n",
        "    plt.plot([x_list[0], x_list[-1]], [y_list[0], y_list[-1]], \"b-\")\n",
        "    plt.plot(x_list, y_list, \"ko\")\n",
        "\n",
        "plt_route(li, x, y)"
      ],
      "metadata": {
        "colab": {
          "base_uri": "https://localhost:8080/",
          "height": 524
        },
        "id": "JVvCKMPiFuCV",
        "outputId": "0bc462a0-d2a7-4caf-971d-d7a5d084fd87"
      },
      "execution_count": null,
      "outputs": [
        {
          "output_type": "display_data",
          "data": {
            "text/plain": [
              "<Figure size 864x576 with 1 Axes>"
            ],
            "image/png": "[encoded data removed]"
          },
          "metadata": {
            "needs_background": "light"
          }
        }
      ]
    },
    {
      "cell_type": "markdown",
      "source": [
        "## ランダムシミュレーション\n",
        "\n",
        "任意の頂点数から頂点をランダムに配置し、最短巡回経路を図示する"
      ],
      "metadata": {
        "id": "ttctzFVbI2u-"
      }
    },
    {
      "cell_type": "code",
      "source": [
        "def salesman_simulate(node_size):\n",
        "    if node_size <= 0: raise Exception(\"node_size is too short\")\n",
        "    x, y = generate_coordinates(node_size, 10, 10)\n",
        "    dist_list = meajure_dist(x, y)\n",
        "    dp = make_table(node_size, dist_list)\n",
        "    li = find_shortest_sort(node_size, dp, dist_list)\n",
        "    plt_route(li, x, y)\n",
        "\n",
        "salesman_simulate(15)"
      ],
      "metadata": {
        "colab": {
          "base_uri": "https://localhost:8080/",
          "height": 516
        },
        "id": "xZKU75inJIg2",
        "outputId": "e3fa2f63-4eb5-402a-e797-efe37a4bee60"
      },
      "execution_count": null,
      "outputs": [
        {
          "output_type": "display_data",
          "data": {
            "text/plain": [
              "<Figure size 864x576 with 1 Axes>"
            ],
            "image/png": "[encoded data removed]"
          },
          "metadata": {
            "needs_background": "light"
          }
        }
      ]
    }
  ]
}